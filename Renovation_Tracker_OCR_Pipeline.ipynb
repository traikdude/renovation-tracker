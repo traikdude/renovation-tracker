{
  "cells": [
    {
      "cell_type": "markdown",
      "metadata": {
        "id": "view-in-github",
        "colab_type": "text"
      },
      "source": [
        "<a href=\"https://colab.research.google.com/github/traikdude/renovation-tracker/blob/master/Renovation_Tracker_OCR_Pipeline.ipynb\" target=\"_parent\"><img src=\"https://colab.research.google.com/assets/colab-badge.svg\" alt=\"Open In Colab\"/></a>"
      ]
    },
    {
      "cell_type": "markdown",
      "metadata": {
        "id": "header"
      },
      "source": [
        "# 🏗️ Renovation Tracker - Handwritten OCR Pipeline\n",
        "\n",
        "[![Open In Colab](https://colab.research.google.com/assets/colab-badge.svg)](https://colab.research.google.com/github/traikdude/renovation-tracker/blob/master/Renovation_Tracker_OCR_Pipeline.ipynb)\n",
        "\n",
        "This notebook provides a complete OCR pipeline for processing handwritten renovation notes, task lists, and financial documents. It extracts data and uploads it to Google Sheets for easy tracking.\n",
        "\n",
        "## 📋 What This Notebook Includes:\n",
        "\n",
        "1. **Quick Demo** - Test OCR on sample images\n",
        "2. **Full Pipeline** - Complete processing with all parsers\n",
        "3. **Interactive Mode** - Upload your own images and process them\n",
        "4. **Google Sheets Integration** - Authenticate and upload data\n",
        "5. **Visualizations** - See confidence scores and results\n",
        "\n",
        "---"
      ]
    },
    {
      "cell_type": "markdown",
      "metadata": {
        "id": "setup-header"
      },
      "source": [
        "## 🔧 Section 1: Setup & Installation\n",
        "\n",
        "First, we'll install all required dependencies including Tesseract OCR."
      ]
    },
    {
      "cell_type": "code",
      "execution_count": 1,
      "metadata": {
        "id": "install-dependencies"
      },
      "outputs": [],
      "source": [
        "%%capture\n",
        "# Install system dependencies\n",
        "!apt-get update\n",
        "!apt-get install -y tesseract-ocr\n",
        "!apt-get install -y libtesseract-dev\n",
        "\n",
        "# Install Python packages\n",
        "!pip install pytesseract opencv-python-headless pillow gspread google-auth google-api-python-client pandas openpyxl"
      ]
    },
    {
      "cell_type": "code",
      "execution_count": 2,
      "metadata": {
        "id": "verify-installation",
        "outputId": "5f270233-4cb4-4be0-a0d9-1d67ca353bc5",
        "colab": {
          "base_uri": "https://localhost:8080/"
        }
      },
      "outputs": [
        {
          "output_type": "stream",
          "name": "stdout",
          "text": [
            "✅ Tesseract version: 4.1.1\n",
            "✅ All dependencies installed successfully!\n"
          ]
        }
      ],
      "source": [
        "# Verify Tesseract installation\n",
        "import pytesseract\n",
        "import cv2\n",
        "from PIL import Image\n",
        "import numpy as np\n",
        "\n",
        "print(\"✅ Tesseract version:\", pytesseract.get_tesseract_version())\n",
        "print(\"✅ All dependencies installed successfully!\")"
      ]
    },
    {
      "cell_type": "markdown",
      "metadata": {
        "id": "clone-repo-header"
      },
      "source": [
        "## 📦 Section 2: Clone Repository & Import Modules\n",
        "\n",
        "Clone the renovation-tracker repository from GitHub to access all the parsers and utilities."
      ]
    },
    {
      "cell_type": "code",
      "execution_count": 3,
      "metadata": {
        "id": "clone-repo",
        "outputId": "3a3f1b7f-9f3c-4c25-8869-991462d41042",
        "colab": {
          "base_uri": "https://localhost:8080/"
        }
      },
      "outputs": [
        {
          "output_type": "stream",
          "name": "stdout",
          "text": [
            "Cloning into 'renovation-tracker'...\n",
            "remote: Enumerating objects: 38, done.\u001b[K\n",
            "remote: Counting objects: 100% (38/38), done.\u001b[K\n",
            "remote: Compressing objects: 100% (37/37), done.\u001b[K\n",
            "remote: Total 38 (delta 1), reused 38 (delta 1), pack-reused 0 (from 0)\u001b[K\n",
            "Receiving objects: 100% (38/38), 1.47 MiB | 27.97 MiB/s, done.\n",
            "Resolving deltas: 100% (1/1), done.\n",
            "/content/renovation-tracker\n",
            "✅ Repository cloned successfully!\n",
            "\n",
            "📁 Project files:\n",
            "check_sheet_status.py\n",
            "clear_worksheets.py\n",
            "create_test_images.py\n",
            "google_sheets_integration.py\n",
            "handwritten_ocr_pipeline.py\n",
            "layout_parser.py\n",
            "moving_guide_parser.py\n",
            "parse_moving_guide.py\n",
            "setup_google_sheets.py\n",
            "task_parser.py\n",
            "transaction_parser.py\n",
            "upload_moving_tasks.py\n"
          ]
        }
      ],
      "source": [
        "# Clone the repository\n",
        "!git clone https://github.com/traikdude/renovation-tracker.git\n",
        "%cd renovation-tracker\n",
        "\n",
        "print(\"✅ Repository cloned successfully!\")\n",
        "print(\"\\n📁 Project files:\")\n",
        "!ls -1 *.py"
      ]
    },
    {
      "cell_type": "code",
      "execution_count": 4,
      "metadata": {
        "id": "import-modules",
        "outputId": "1cafacc1-6bff-4f05-d75b-6eac46dc6fdd",
        "colab": {
          "base_uri": "https://localhost:8080/"
        }
      },
      "outputs": [
        {
          "output_type": "stream",
          "name": "stdout",
          "text": [
            "✅ All modules imported successfully!\n"
          ]
        }
      ],
      "source": [
        "# Import required modules\n",
        "import sys\n",
        "import os\n",
        "from pathlib import Path\n",
        "\n",
        "# Add current directory to path\n",
        "sys.path.insert(0, os.getcwd())\n",
        "\n",
        "# Import parsers\n",
        "from transaction_parser import TransactionParser\n",
        "from task_parser import TaskParser\n",
        "from layout_parser import LayoutParser\n",
        "from moving_guide_parser import MovingGuideParser\n",
        "\n",
        "print(\"✅ All modules imported successfully!\")"
      ]
    },
    {
      "cell_type": "markdown",
      "metadata": {
        "id": "quick-demo-header"
      },
      "source": [
        "## 🚀 Section 3: Quick Demo - Test OCR\n",
        "\n",
        "Let's test the OCR on sample images included in the repository."
      ]
    },
    {
      "cell_type": "code",
      "execution_count": 5,
      "metadata": {
        "id": "quick-demo",
        "outputId": "7be22fbf-4728-4f6b-a5d1-fdd6aba0ef10",
        "colab": {
          "base_uri": "https://localhost:8080/",
          "height": 1000
        }
      },
      "outputs": [
        {
          "output_type": "stream",
          "name": "stdout",
          "text": [
            "📸 Found 13 sample images\n",
            "\n",
            "Testing with: financial_notes.jpg\n"
          ]
        },
        {
          "output_type": "display_data",
          "data": {
            "image/jpeg": "[encoded data removed]",
            "text/plain": [
              "<IPython.core.display.Image object>"
            ]
          },
          "metadata": {
            "image/jpeg": {
              "width": 400
            }
          }
        },
        {
          "output_type": "stream",
          "name": "stdout",
          "text": [
            "\n",
            "==================================================\n",
            "📝 EXTRACTED TEXT:\n",
            "==================================================\n",
            "Budget & Expenses\n",
            "\n",
            " \n",
            "\n",
            "Date: October 24, 2025\n",
            "\n",
            "Item: Kitchen Cabinets\n",
            "Cost: $3,500.00\n",
            "Vendor: Home Depot\n",
            "Status: Paid\n",
            "\n",
            "Item: Tile Flooring\n",
            "Cost: $1,200.00\n",
            "Vendor: Lowe's\n",
            "\n",
            "Status: Pending\n",
            "\n",
            "Item: Paint Supplies\n",
            "Cost: $450.00\n",
            "Vendor: Sherwin Williams\n",
            "\n",
            "Status: Paid\n",
            "\f\n"
          ]
        }
      ],
      "source": [
        "from IPython.display import display, Image as IPImage\n",
        "import glob\n",
        "\n",
        "# List available sample images\n",
        "sample_images = glob.glob(\"images/*.jpg\") + glob.glob(\"images/*.jpeg\")\n",
        "print(f\"📸 Found {len(sample_images)} sample images\\n\")\n",
        "\n",
        "# Display first sample image\n",
        "if sample_images:\n",
        "    test_image = sample_images[0]\n",
        "    print(f\"Testing with: {os.path.basename(test_image)}\")\n",
        "    display(IPImage(filename=test_image, width=400))\n",
        "\n",
        "    # Run OCR\n",
        "    img = cv2.imread(test_image)\n",
        "    gray = cv2.cvtColor(img, cv2.COLOR_BGR2GRAY)\n",
        "    text = pytesseract.image_to_string(gray)\n",
        "\n",
        "    print(\"\\n\" + \"=\"*50)\n",
        "    print(\"📝 EXTRACTED TEXT:\")\n",
        "    print(\"=\"*50)\n",
        "    print(text[:500] + \"...\" if len(text) > 500 else text)\n",
        "else:\n",
        "    print(\"⚠️ No sample images found. You can upload your own in the next section!\")"
      ]
    },
    {
      "cell_type": "markdown",
      "metadata": {
        "id": "interactive-header"
      },
      "source": [
        "## 📤 Section 4: Interactive Mode - Upload Your Own Images\n",
        "\n",
        "Upload your handwritten notes, receipts, or task lists and process them."
      ]
    },
    {
      "cell_type": "code",
      "execution_count": 7,
      "metadata": {
        "id": "upload-widget",
        "outputId": "98bab8a1-0210-4b5f-a2fb-4880e4a67799",
        "colab": {
          "base_uri": "https://localhost:8080/",
          "height": 140
        }
      },
      "outputs": [
        {
          "output_type": "stream",
          "name": "stdout",
          "text": [
            "📤 Upload one or more images to process\n",
            "Supported formats: .jpg, .jpeg, .png\n",
            "\n"
          ]
        },
        {
          "output_type": "display_data",
          "data": {
            "text/plain": [
              "<IPython.core.display.HTML object>"
            ],
            "text/html": [
              "\n",
              "     <input type=\"file\" id=\"files-f29935f6-5180-4f1d-baaf-9ad81f850590\" name=\"files[]\" multiple disabled\n",
              "        style=\"border:none\" />\n",
              "     <output id=\"result-f29935f6-5180-4f1d-baaf-9ad81f850590\">\n",
              "      Upload widget is only available when the cell has been executed in the\n",
              "      current browser session. Please rerun this cell to enable.\n",
              "      </output>\n",
              "      <script>// Copyright 2017 Google LLC\n",
              "//\n",
              "// Licensed under the Apache License, Version 2.0 (the \"License\");\n",
              "// you may not use this file except in compliance with the License.\n",
              "// You may obtain a copy of the License at\n",
              "//\n",
              "//      http://www.apache.org/licenses/LICENSE-2.0\n",
              "//\n",
              "// Unless required by applicable law or agreed to in writing, software\n",
              "// distributed under the License is distributed on an \"AS IS\" BASIS,\n",
              "// WITHOUT WARRANTIES OR CONDITIONS OF ANY KIND, either express or implied.\n",
              "// See the License for the specific language governing permissions and\n",
              "// limitations under the License.\n",
              "\n",
              "/**\n",
              " * @fileoverview Helpers for google.colab Python module.\n",
              " */\n",
              "(function(scope) {\n",
              "function span(text, styleAttributes = {}) {\n",
              "  const element = document.createElement('span');\n",
              "  element.textContent = text;\n",
              "  for (const key of Object.keys(styleAttributes)) {\n",
              "    element.style[key] = styleAttributes[key];\n",
              "  }\n",
              "  return element;\n",
              "}\n",
              "\n",
              "// Max number of bytes which will be uploaded at a time.\n",
              "const MAX_PAYLOAD_SIZE = 100 * 1024;\n",
              "\n",
              "function _uploadFiles(inputId, outputId) {\n",
              "  const steps = uploadFilesStep(inputId, outputId);\n",
              "  const outputElement = document.getElementById(outputId);\n",
              "  // Cache steps on the outputElement to make it available for the next call\n",
              "  // to uploadFilesContinue from Python.\n",
              "  outputElement.steps = steps;\n",
              "\n",
              "  return _uploadFilesContinue(outputId);\n",
              "}\n",
              "\n",
              "// This is roughly an async generator (not supported in the browser yet),\n",
              "// where there are multiple asynchronous steps and the Python side is going\n",
              "// to poll for completion of each step.\n",
              "// This uses a Promise to block the python side on completion of each step,\n",
              "// then passes the result of the previous step as the input to the next step.\n",
              "function _uploadFilesContinue(outputId) {\n",
              "  const outputElement = document.getElementById(outputId);\n",
              "  const steps = outputElement.steps;\n",
              "\n",
              "  const next = steps.next(outputElement.lastPromiseValue);\n",
              "  return Promise.resolve(next.value.promise).then((value) => {\n",
              "    // Cache the last promise value to make it available to the next\n",
              "    // step of the generator.\n",
              "    outputElement.lastPromiseValue = value;\n",
              "    return next.value.response;\n",
              "  });\n",
              "}\n",
              "\n",
              "/**\n",
              " * Generator function which is called between each async step of the upload\n",
              " * process.\n",
              " * @param {string} inputId Element ID of the input file picker element.\n",
              " * @param {string} outputId Element ID of the output display.\n",
              " * @return {!Iterable<!Object>} Iterable of next steps.\n",
              " */\n",
              "function* uploadFilesStep(inputId, outputId) {\n",
              "  const inputElement = document.getElementById(inputId);\n",
              "  inputElement.disabled = false;\n",
              "\n",
              "  const outputElement = document.getElementById(outputId);\n",
              "  outputElement.innerHTML = '';\n",
              "\n",
              "  const pickedPromise = new Promise((resolve) => {\n",
              "    inputElement.addEventListener('change', (e) => {\n",
              "      resolve(e.target.files);\n",
              "    });\n",
              "  });\n",
              "\n",
              "  const cancel = document.createElement('button');\n",
              "  inputElement.parentElement.appendChild(cancel);\n",
              "  cancel.textContent = 'Cancel upload';\n",
              "  const cancelPromise = new Promise((resolve) => {\n",
              "    cancel.onclick = () => {\n",
              "      resolve(null);\n",
              "    };\n",
              "  });\n",
              "\n",
              "  // Wait for the user to pick the files.\n",
              "  const files = yield {\n",
              "    promise: Promise.race([pickedPromise, cancelPromise]),\n",
              "    response: {\n",
              "      action: 'starting',\n",
              "    }\n",
              "  };\n",
              "\n",
              "  cancel.remove();\n",
              "\n",
              "  // Disable the input element since further picks are not allowed.\n",
              "  inputElement.disabled = true;\n",
              "\n",
              "  if (!files) {\n",
              "    return {\n",
              "      response: {\n",
              "        action: 'complete',\n",
              "      }\n",
              "    };\n",
              "  }\n",
              "\n",
              "  for (const file of files) {\n",
              "    const li = document.createElement('li');\n",
              "    li.append(span(file.name, {fontWeight: 'bold'}));\n",
              "    li.append(span(\n",
              "        `(${file.type || 'n/a'}) - ${file.size} bytes, ` +\n",
              "        `last modified: ${\n",
              "            file.lastModifiedDate ? file.lastModifiedDate.toLocaleDateString() :\n",
              "                                    'n/a'} - `));\n",
              "    const percent = span('0% done');\n",
              "    li.appendChild(percent);\n",
              "\n",
              "    outputElement.appendChild(li);\n",
              "\n",
              "    const fileDataPromise = new Promise((resolve) => {\n",
              "      const reader = new FileReader();\n",
              "      reader.onload = (e) => {\n",
              "        resolve(e.target.result);\n",
              "      };\n",
              "      reader.readAsArrayBuffer(file);\n",
              "    });\n",
              "    // Wait for the data to be ready.\n",
              "    let fileData = yield {\n",
              "      promise: fileDataPromise,\n",
              "      response: {\n",
              "        action: 'continue',\n",
              "      }\n",
              "    };\n",
              "\n",
              "    // Use a chunked sending to avoid message size limits. See b/62115660.\n",
              "    let position = 0;\n",
              "    do {\n",
              "      const length = Math.min(fileData.byteLength - position, MAX_PAYLOAD_SIZE);\n",
              "      const chunk = new Uint8Array(fileData, position, length);\n",
              "      position += length;\n",
              "\n",
              "      const base64 = btoa(String.fromCharCode.apply(null, chunk));\n",
              "      yield {\n",
              "        response: {\n",
              "          action: 'append',\n",
              "          file: file.name,\n",
              "          data: base64,\n",
              "        },\n",
              "      };\n",
              "\n",
              "      let percentDone = fileData.byteLength === 0 ?\n",
              "          100 :\n",
              "          Math.round((position / fileData.byteLength) * 100);\n",
              "      percent.textContent = `${percentDone}% done`;\n",
              "\n",
              "    } while (position < fileData.byteLength);\n",
              "  }\n",
              "\n",
              "  // All done.\n",
              "  yield {\n",
              "    response: {\n",
              "      action: 'complete',\n",
              "    }\n",
              "  };\n",
              "}\n",
              "\n",
              "scope.google = scope.google || {};\n",
              "scope.google.colab = scope.google.colab || {};\n",
              "scope.google.colab._files = {\n",
              "  _uploadFiles,\n",
              "  _uploadFilesContinue,\n",
              "};\n",
              "})(self);\n",
              "</script> "
            ]
          },
          "metadata": {}
        },
        {
          "output_type": "stream",
          "name": "stdout",
          "text": [
            "\n",
            "📸 Total uploaded: 0 image(s)\n"
          ]
        }
      ],
      "source": [
        "from google.colab import files\n",
        "from IPython.display import display, Image as IPImage\n",
        "import io\n",
        "\n",
        "print(\"📤 Upload one or more images to process\")\n",
        "print(\"Supported formats: .jpg, .jpeg, .png\\n\")\n",
        "\n",
        "uploaded = files.upload()\n",
        "\n",
        "# Create uploads directory\n",
        "!mkdir -p uploads\n",
        "\n",
        "uploaded_files = []\n",
        "for filename in uploaded.keys():\n",
        "    filepath = f\"uploads/{filename}\"\n",
        "    with open(filepath, 'wb') as f:\n",
        "        f.write(uploaded[filename])\n",
        "    uploaded_files.append(filepath)\n",
        "    print(f\"✅ Saved: {filename}\")\n",
        "\n",
        "print(f\"\\n📸 Total uploaded: {len(uploaded_files)} image(s)\")"
      ]
    },
    {
      "cell_type": "code",
      "execution_count": 8,
      "metadata": {
        "id": "display-uploaded"
      },
      "outputs": [],
      "source": [
        "# Display uploaded images\n",
        "for filepath in uploaded_files:\n",
        "    print(f\"\\n{'='*60}\")\n",
        "    print(f\"📄 {os.path.basename(filepath)}\")\n",
        "    print(f\"{'='*60}\")\n",
        "    display(IPImage(filename=filepath, width=500))"
      ]
    },
    {
      "cell_type": "markdown",
      "metadata": {
        "id": "process-header"
      },
      "source": [
        "## 🔍 Section 5: Process Images with OCR\n",
        "\n",
        "Extract text from uploaded images with confidence scoring."
      ]
    },
    {
      "cell_type": "code",
      "execution_count": 9,
      "metadata": {
        "id": "process-ocr",
        "outputId": "95ac16ef-6a82-483d-f460-578672c2078d",
        "colab": {
          "base_uri": "https://localhost:8080/",
          "height": 438
        }
      },
      "outputs": [
        {
          "output_type": "stream",
          "name": "stdout",
          "text": [
            "\n",
            "============================================================\n",
            "📊 PROCESSING SUMMARY\n",
            "============================================================\n"
          ]
        },
        {
          "output_type": "error",
          "ename": "KeyError",
          "evalue": "\"None of [Index(['filename', 'confidence', 'word_count'], dtype='object')] are in the [columns]\"",
          "traceback": [
            "\u001b[0;31m---------------------------------------------------------------------------\u001b[0m",
            "\u001b[0;31mKeyError\u001b[0m                                  Traceback (most recent call last)",
            "\u001b[0;32m/tmp/ipython-input-3193176765.py\u001b[0m in \u001b[0;36m<cell line: 0>\u001b[0;34m()\u001b[0m\n\u001b[1;32m     44\u001b[0m \u001b[0mprint\u001b[0m\u001b[0;34m(\u001b[0m\u001b[0;34m\"📊 PROCESSING SUMMARY\"\u001b[0m\u001b[0;34m)\u001b[0m\u001b[0;34m\u001b[0m\u001b[0;34m\u001b[0m\u001b[0m\n\u001b[1;32m     45\u001b[0m \u001b[0mprint\u001b[0m\u001b[0;34m(\u001b[0m\u001b[0;34m\"=\"\u001b[0m\u001b[0;34m*\u001b[0m\u001b[0;36m60\u001b[0m\u001b[0;34m)\u001b[0m\u001b[0;34m\u001b[0m\u001b[0;34m\u001b[0m\u001b[0m\n\u001b[0;32m---> 46\u001b[0;31m \u001b[0mdisplay\u001b[0m\u001b[0;34m(\u001b[0m\u001b[0mdf_results\u001b[0m\u001b[0;34m[\u001b[0m\u001b[0;34m[\u001b[0m\u001b[0;34m'filename'\u001b[0m\u001b[0;34m,\u001b[0m \u001b[0;34m'confidence'\u001b[0m\u001b[0;34m,\u001b[0m \u001b[0;34m'word_count'\u001b[0m\u001b[0;34m]\u001b[0m\u001b[0;34m]\u001b[0m\u001b[0;34m)\u001b[0m\u001b[0;34m\u001b[0m\u001b[0;34m\u001b[0m\u001b[0m\n\u001b[0m",
            "\u001b[0;32m/usr/local/lib/python3.12/dist-packages/pandas/core/frame.py\u001b[0m in \u001b[0;36m__getitem__\u001b[0;34m(self, key)\u001b[0m\n\u001b[1;32m   4106\u001b[0m             \u001b[0;32mif\u001b[0m \u001b[0mis_iterator\u001b[0m\u001b[0;34m(\u001b[0m\u001b[0mkey\u001b[0m\u001b[0;34m)\u001b[0m\u001b[0;34m:\u001b[0m\u001b[0;34m\u001b[0m\u001b[0;34m\u001b[0m\u001b[0m\n\u001b[1;32m   4107\u001b[0m                 \u001b[0mkey\u001b[0m \u001b[0;34m=\u001b[0m \u001b[0mlist\u001b[0m\u001b[0;34m(\u001b[0m\u001b[0mkey\u001b[0m\u001b[0;34m)\u001b[0m\u001b[0;34m\u001b[0m\u001b[0;34m\u001b[0m\u001b[0m\n\u001b[0;32m-> 4108\u001b[0;31m             \u001b[0mindexer\u001b[0m \u001b[0;34m=\u001b[0m \u001b[0mself\u001b[0m\u001b[0;34m.\u001b[0m\u001b[0mcolumns\u001b[0m\u001b[0;34m.\u001b[0m\u001b[0m_get_indexer_strict\u001b[0m\u001b[0;34m(\u001b[0m\u001b[0mkey\u001b[0m\u001b[0;34m,\u001b[0m \u001b[0;34m\"columns\"\u001b[0m\u001b[0;34m)\u001b[0m\u001b[0;34m[\u001b[0m\u001b[0;36m1\u001b[0m\u001b[0;34m]\u001b[0m\u001b[0;34m\u001b[0m\u001b[0;34m\u001b[0m\u001b[0m\n\u001b[0m\u001b[1;32m   4109\u001b[0m \u001b[0;34m\u001b[0m\u001b[0m\n\u001b[1;32m   4110\u001b[0m         \u001b[0;31m# take() does not accept boolean indexers\u001b[0m\u001b[0;34m\u001b[0m\u001b[0;34m\u001b[0m\u001b[0m\n",
            "\u001b[0;32m/usr/local/lib/python3.12/dist-packages/pandas/core/indexes/base.py\u001b[0m in \u001b[0;36m_get_indexer_strict\u001b[0;34m(self, key, axis_name)\u001b[0m\n\u001b[1;32m   6198\u001b[0m             \u001b[0mkeyarr\u001b[0m\u001b[0;34m,\u001b[0m \u001b[0mindexer\u001b[0m\u001b[0;34m,\u001b[0m \u001b[0mnew_indexer\u001b[0m \u001b[0;34m=\u001b[0m \u001b[0mself\u001b[0m\u001b[0;34m.\u001b[0m\u001b[0m_reindex_non_unique\u001b[0m\u001b[0;34m(\u001b[0m\u001b[0mkeyarr\u001b[0m\u001b[0;34m)\u001b[0m\u001b[0;34m\u001b[0m\u001b[0;34m\u001b[0m\u001b[0m\n\u001b[1;32m   6199\u001b[0m \u001b[0;34m\u001b[0m\u001b[0m\n\u001b[0;32m-> 6200\u001b[0;31m         \u001b[0mself\u001b[0m\u001b[0;34m.\u001b[0m\u001b[0m_raise_if_missing\u001b[0m\u001b[0;34m(\u001b[0m\u001b[0mkeyarr\u001b[0m\u001b[0;34m,\u001b[0m \u001b[0mindexer\u001b[0m\u001b[0;34m,\u001b[0m \u001b[0maxis_name\u001b[0m\u001b[0;34m)\u001b[0m\u001b[0;34m\u001b[0m\u001b[0;34m\u001b[0m\u001b[0m\n\u001b[0m\u001b[1;32m   6201\u001b[0m \u001b[0;34m\u001b[0m\u001b[0m\n\u001b[1;32m   6202\u001b[0m         \u001b[0mkeyarr\u001b[0m \u001b[0;34m=\u001b[0m \u001b[0mself\u001b[0m\u001b[0;34m.\u001b[0m\u001b[0mtake\u001b[0m\u001b[0;34m(\u001b[0m\u001b[0mindexer\u001b[0m\u001b[0;34m)\u001b[0m\u001b[0;34m\u001b[0m\u001b[0;34m\u001b[0m\u001b[0m\n",
            "\u001b[0;32m/usr/local/lib/python3.12/dist-packages/pandas/core/indexes/base.py\u001b[0m in \u001b[0;36m_raise_if_missing\u001b[0;34m(self, key, indexer, axis_name)\u001b[0m\n\u001b[1;32m   6247\u001b[0m         \u001b[0;32mif\u001b[0m \u001b[0mnmissing\u001b[0m\u001b[0;34m:\u001b[0m\u001b[0;34m\u001b[0m\u001b[0;34m\u001b[0m\u001b[0m\n\u001b[1;32m   6248\u001b[0m             \u001b[0;32mif\u001b[0m \u001b[0mnmissing\u001b[0m \u001b[0;34m==\u001b[0m \u001b[0mlen\u001b[0m\u001b[0;34m(\u001b[0m\u001b[0mindexer\u001b[0m\u001b[0;34m)\u001b[0m\u001b[0;34m:\u001b[0m\u001b[0;34m\u001b[0m\u001b[0;34m\u001b[0m\u001b[0m\n\u001b[0;32m-> 6249\u001b[0;31m                 \u001b[0;32mraise\u001b[0m \u001b[0mKeyError\u001b[0m\u001b[0;34m(\u001b[0m\u001b[0;34mf\"None of [{key}] are in the [{axis_name}]\"\u001b[0m\u001b[0;34m)\u001b[0m\u001b[0;34m\u001b[0m\u001b[0;34m\u001b[0m\u001b[0m\n\u001b[0m\u001b[1;32m   6250\u001b[0m \u001b[0;34m\u001b[0m\u001b[0m\n\u001b[1;32m   6251\u001b[0m             \u001b[0mnot_found\u001b[0m \u001b[0;34m=\u001b[0m \u001b[0mlist\u001b[0m\u001b[0;34m(\u001b[0m\u001b[0mensure_index\u001b[0m\u001b[0;34m(\u001b[0m\u001b[0mkey\u001b[0m\u001b[0;34m)\u001b[0m\u001b[0;34m[\u001b[0m\u001b[0mmissing_mask\u001b[0m\u001b[0;34m.\u001b[0m\u001b[0mnonzero\u001b[0m\u001b[0;34m(\u001b[0m\u001b[0;34m)\u001b[0m\u001b[0;34m[\u001b[0m\u001b[0;36m0\u001b[0m\u001b[0;34m]\u001b[0m\u001b[0;34m]\u001b[0m\u001b[0;34m.\u001b[0m\u001b[0munique\u001b[0m\u001b[0;34m(\u001b[0m\u001b[0;34m)\u001b[0m\u001b[0;34m)\u001b[0m\u001b[0;34m\u001b[0m\u001b[0;34m\u001b[0m\u001b[0m\n",
            "\u001b[0;31mKeyError\u001b[0m: \"None of [Index(['filename', 'confidence', 'word_count'], dtype='object')] are in the [columns]\""
          ]
        }
      ],
      "source": [
        "import pandas as pd\n",
        "\n",
        "def process_image_with_confidence(image_path):\n",
        "    \"\"\"Process image and return text with confidence scores\"\"\"\n",
        "    img = cv2.imread(image_path)\n",
        "    gray = cv2.cvtColor(img, cv2.COLOR_BGR2GRAY)\n",
        "\n",
        "    # Apply preprocessing\n",
        "    gray = cv2.threshold(gray, 0, 255, cv2.THRESH_BINARY + cv2.THRESH_OTSU)[1]\n",
        "\n",
        "    # Get text and confidence data\n",
        "    data = pytesseract.image_to_data(gray, output_type=pytesseract.Output.DICT)\n",
        "    text = pytesseract.image_to_string(gray)\n",
        "\n",
        "    # Calculate average confidence\n",
        "    confidences = [int(conf) for conf in data['conf'] if int(conf) > 0]\n",
        "    avg_confidence = sum(confidences) / len(confidences) if confidences else 0\n",
        "\n",
        "    return text, avg_confidence, data\n",
        "\n",
        "# Process all uploaded images\n",
        "results = []\n",
        "\n",
        "for filepath in uploaded_files:\n",
        "    filename = os.path.basename(filepath)\n",
        "    print(f\"\\n🔄 Processing: {filename}...\")\n",
        "\n",
        "    text, confidence, data = process_image_with_confidence(filepath)\n",
        "\n",
        "    results.append({\n",
        "        'filename': filename,\n",
        "        'text': text,\n",
        "        'confidence': confidence,\n",
        "        'word_count': len(text.split())\n",
        "    })\n",
        "\n",
        "    print(f\"   ✅ Confidence: {confidence:.1f}%\")\n",
        "    print(f\"   ✅ Words extracted: {len(text.split())}\")\n",
        "    print(f\"\\n   Preview: {text[:200]}...\")\n",
        "\n",
        "# Create results dataframe\n",
        "df_results = pd.DataFrame(results)\n",
        "print(\"\\n\" + \"=\"*60)\n",
        "print(\"📊 PROCESSING SUMMARY\")\n",
        "print(\"=\"*60)\n",
        "display(df_results[['filename', 'confidence', 'word_count']])"
      ]
    },
    {
      "cell_type": "markdown",
      "metadata": {
        "id": "parsers-header"
      },
      "source": [
        "## 🧩 Section 6: Intelligent Parsers\n",
        "\n",
        "Use specialized parsers to extract structured data from different document types."
      ]
    },
    {
      "cell_type": "markdown",
      "metadata": {
        "id": "transaction-parser-header"
      },
      "source": [
        "### 💰 Transaction Parser - Financial Documents"
      ]
    },
    {
      "cell_type": "code",
      "execution_count": null,
      "metadata": {
        "id": "transaction-parser"
      },
      "outputs": [],
      "source": [
        "# Initialize transaction parser\n",
        "transaction_parser = TransactionParser()\n",
        "\n",
        "print(\"💰 TRANSACTION PARSER\")\n",
        "print(\"=\"*60)\n",
        "print(\"Use this for: receipts, expense notes, budget sheets\\n\")\n",
        "\n",
        "# Process financial documents\n",
        "for result in results:\n",
        "    text = result['text']\n",
        "\n",
        "    # Check if this looks like a financial document\n",
        "    if any(keyword in text.lower() for keyword in ['$', 'price', 'total', 'cost', 'paid', 'expense']):\n",
        "        print(f\"\\n📄 Processing: {result['filename']}\")\n",
        "        transactions = transaction_parser.parse(text)\n",
        "\n",
        "        if transactions:\n",
        "            df_trans = pd.DataFrame(transactions)\n",
        "            print(f\"   ✅ Found {len(transactions)} transaction(s)\")\n",
        "            display(df_trans)\n",
        "        else:\n",
        "            print(\"   ⚠️ No transactions detected\")"
      ]
    },
    {
      "cell_type": "markdown",
      "metadata": {
        "id": "task-parser-header"
      },
      "source": [
        "### ✅ Task Parser - Checklists & To-Do Lists"
      ]
    },
    {
      "cell_type": "code",
      "execution_count": null,
      "metadata": {
        "id": "task-parser"
      },
      "outputs": [],
      "source": [
        "# Initialize task parser\n",
        "task_parser = TaskParser()\n",
        "\n",
        "print(\"✅ TASK PARSER\")\n",
        "print(\"=\"*60)\n",
        "print(\"Use this for: checklists, to-do lists, task lists\\n\")\n",
        "\n",
        "# Process task documents\n",
        "for result in results:\n",
        "    text = result['text']\n",
        "\n",
        "    # Check if this looks like a task list\n",
        "    if any(keyword in text.lower() for keyword in ['task', 'todo', 'checklist', '[ ]', '[x]', 'complete']):\n",
        "        print(f\"\\n📄 Processing: {result['filename']}\")\n",
        "        tasks = task_parser.parse(text)\n",
        "\n",
        "        if tasks:\n",
        "            df_tasks = pd.DataFrame(tasks)\n",
        "            print(f\"   ✅ Found {len(tasks)} task(s)\")\n",
        "            display(df_tasks)\n",
        "        else:\n",
        "            print(\"   ⚠️ No tasks detected\")"
      ]
    },
    {
      "cell_type": "markdown",
      "metadata": {
        "id": "layout-parser-header"
      },
      "source": [
        "### 📐 Layout Parser - Property Information"
      ]
    },
    {
      "cell_type": "code",
      "execution_count": null,
      "metadata": {
        "id": "layout-parser"
      },
      "outputs": [],
      "source": [
        "# Initialize layout parser\n",
        "layout_parser = LayoutParser()\n",
        "\n",
        "print(\"📐 LAYOUT PARSER\")\n",
        "print(\"=\"*60)\n",
        "print(\"Use this for: property layouts, room dimensions, floor plans\\n\")\n",
        "\n",
        "# Process layout documents\n",
        "for result in results:\n",
        "    text = result['text']\n",
        "\n",
        "    # Check if this looks like a layout document\n",
        "    if any(keyword in text.lower() for keyword in ['room', 'ft', 'feet', 'dimension', 'area', 'bedroom', 'kitchen']):\n",
        "        print(f\"\\n📄 Processing: {result['filename']}\")\n",
        "        layouts = layout_parser.parse(text)\n",
        "\n",
        "        if layouts:\n",
        "            df_layouts = pd.DataFrame(layouts)\n",
        "            print(f\"   ✅ Found {len(layouts)} room/area(s)\")\n",
        "            display(df_layouts)\n",
        "        else:\n",
        "            print(\"   ⚠️ No layout information detected\")"
      ]
    },
    {
      "cell_type": "markdown",
      "metadata": {
        "id": "moving-parser-header"
      },
      "source": [
        "### 📦 Moving Guide Parser - Moving Checklists"
      ]
    },
    {
      "cell_type": "code",
      "execution_count": null,
      "metadata": {
        "id": "moving-parser"
      },
      "outputs": [],
      "source": [
        "# Initialize moving guide parser\n",
        "moving_parser = MovingGuideParser()\n",
        "\n",
        "print(\"📦 MOVING GUIDE PARSER\")\n",
        "print(\"=\"*60)\n",
        "print(\"Use this for: moving checklists, packing guides, relocation tasks\\n\")\n",
        "\n",
        "# Process moving documents\n",
        "for result in results:\n",
        "    text = result['text']\n",
        "\n",
        "    # Check if this looks like a moving guide\n",
        "    if any(keyword in text.lower() for keyword in ['moving', 'packing', 'pack', 'box', 'relocation']):\n",
        "        print(f\"\\n📄 Processing: {result['filename']}\")\n",
        "        moving_tasks = moving_parser.parse(text)\n",
        "\n",
        "        if moving_tasks:\n",
        "            df_moving = pd.DataFrame(moving_tasks)\n",
        "            print(f\"   ✅ Found {len(moving_tasks)} moving task(s)\")\n",
        "            display(df_moving)\n",
        "        else:\n",
        "            print(\"   ⚠️ No moving tasks detected\")"
      ]
    },
    {
      "cell_type": "markdown",
      "metadata": {
        "id": "visualization-header"
      },
      "source": [
        "## 📊 Section 7: Visualizations\n",
        "\n",
        "Visualize OCR confidence scores and processing statistics."
      ]
    },
    {
      "cell_type": "code",
      "execution_count": null,
      "metadata": {
        "id": "visualizations"
      },
      "outputs": [],
      "source": [
        "import matplotlib.pyplot as plt\n",
        "\n",
        "if results:\n",
        "    # Confidence scores bar chart\n",
        "    fig, axes = plt.subplots(1, 2, figsize=(14, 5))\n",
        "\n",
        "    # Plot 1: Confidence Scores\n",
        "    filenames = [r['filename'] for r in results]\n",
        "    confidences = [r['confidence'] for r in results]\n",
        "\n",
        "    axes[0].bar(range(len(filenames)), confidences, color='steelblue')\n",
        "    axes[0].set_xticks(range(len(filenames)))\n",
        "    axes[0].set_xticklabels([f[:15] + '...' if len(f) > 15 else f for f in filenames], rotation=45, ha='right')\n",
        "    axes[0].set_ylabel('Confidence (%)')\n",
        "    axes[0].set_title('OCR Confidence Scores by Image')\n",
        "    axes[0].axhline(y=70, color='r', linestyle='--', label='Good threshold (70%)')\n",
        "    axes[0].legend()\n",
        "    axes[0].grid(axis='y', alpha=0.3)\n",
        "\n",
        "    # Plot 2: Word Count\n",
        "    word_counts = [r['word_count'] for r in results]\n",
        "\n",
        "    axes[1].bar(range(len(filenames)), word_counts, color='coral')\n",
        "    axes[1].set_xticks(range(len(filenames)))\n",
        "    axes[1].set_xticklabels([f[:15] + '...' if len(f) > 15 else f for f in filenames], rotation=45, ha='right')\n",
        "    axes[1].set_ylabel('Word Count')\n",
        "    axes[1].set_title('Words Extracted per Image')\n",
        "    axes[1].grid(axis='y', alpha=0.3)\n",
        "\n",
        "    plt.tight_layout()\n",
        "    plt.show()\n",
        "\n",
        "    # Summary statistics\n",
        "    print(\"\\n📈 SUMMARY STATISTICS\")\n",
        "    print(\"=\"*60)\n",
        "    print(f\"Average Confidence: {sum(confidences)/len(confidences):.1f}%\")\n",
        "    print(f\"Total Words Extracted: {sum(word_counts)}\")\n",
        "    print(f\"Images Processed: {len(results)}\")\n",
        "else:\n",
        "    print(\"⚠️ No results to visualize. Upload and process images first!\")"
      ]
    },
    {
      "cell_type": "markdown",
      "metadata": {
        "id": "google-sheets-header"
      },
      "source": [
        "## 📊 Section 8: Google Sheets Integration\n",
        "\n",
        "Upload extracted data to Google Sheets for tracking and management."
      ]
    },
    {
      "cell_type": "code",
      "execution_count": 10,
      "metadata": {
        "id": "google-auth",
        "outputId": "dda8c7ea-2956-4873-d6e1-9513893b2006",
        "colab": {
          "base_uri": "https://localhost:8080/"
        }
      },
      "outputs": [
        {
          "output_type": "stream",
          "name": "stdout",
          "text": [
            "🔐 Google Sheets Authentication\n",
            "\n",
            "This will allow the notebook to access your Google Sheets.\n",
            "Click the link below and authorize access.\n",
            "\n",
            "✅ Authentication successful!\n",
            "\n",
            "You can now upload data to Google Sheets.\n"
          ]
        }
      ],
      "source": [
        "from google.colab import auth\n",
        "from google.auth import default\n",
        "import gspread\n",
        "\n",
        "print(\"🔐 Google Sheets Authentication\\n\")\n",
        "print(\"This will allow the notebook to access your Google Sheets.\")\n",
        "print(\"Click the link below and authorize access.\\n\")\n",
        "\n",
        "# Authenticate with Google\n",
        "auth.authenticate_user()\n",
        "creds, _ = default()\n",
        "\n",
        "# Initialize gspread client\n",
        "gc = gspread.authorize(creds)\n",
        "\n",
        "print(\"✅ Authentication successful!\")\n",
        "print(\"\\nYou can now upload data to Google Sheets.\")"
      ]
    },
    {
      "cell_type": "code",
      "execution_count": null,
      "metadata": {
        "id": "upload-to-sheets"
      },
      "outputs": [],
      "source": [
        "# Upload data to Google Sheets\n",
        "from datetime import datetime\n",
        "\n",
        "def upload_to_google_sheets(spreadsheet_id, worksheet_name, data_df):\n",
        "    \"\"\"Upload DataFrame to Google Sheets\"\"\"\n",
        "    try:\n",
        "        # Open spreadsheet\n",
        "        spreadsheet = gc.open_by_key(spreadsheet_id)\n",
        "\n",
        "        # Get or create worksheet\n",
        "        try:\n",
        "            worksheet = spreadsheet.worksheet(worksheet_name)\n",
        "        except:\n",
        "            worksheet = spreadsheet.add_worksheet(title=worksheet_name, rows=100, cols=20)\n",
        "\n",
        "        # Add timestamp column\n",
        "        data_df['Uploaded At'] = datetime.now().strftime('%Y-%m-%d %H:%M:%S')\n",
        "\n",
        "        # Convert to list format for gspread\n",
        "        values = [data_df.columns.tolist()] + data_df.values.tolist()\n",
        "\n",
        "        # Clear existing data and upload new data\n",
        "        worksheet.clear()\n",
        "        worksheet.update('A1', values)\n",
        "\n",
        "        print(f\"✅ Uploaded {len(data_df)} rows to '{worksheet_name}'\")\n",
        "        return True\n",
        "    except Exception as e:\n",
        "        print(f\"❌ Error uploading to Google Sheets: {e}\")\n",
        "        return False\n",
        "\n",
        "# Example usage\n",
        "print(\"📤 UPLOAD TO GOOGLE SHEETS\")\n",
        "print(\"=\"*60)\n",
        "print(\"\\nTo upload data, you need:\")\n",
        "print(\"1. Your Google Spreadsheet ID (from the URL)\")\n",
        "print(\"2. The worksheet name to upload to\\n\")\n",
        "\n",
        "# Uncomment and fill in your details to upload:\n",
        "# SPREADSHEET_ID = \"your_spreadsheet_id_here\"\n",
        "# WORKSHEET_NAME = \"OCR Results\"\n",
        "# upload_to_google_sheets(SPREADSHEET_ID, WORKSHEET_NAME, df_results)\n",
        "\n",
        "print(\"💡 Tip: Uncomment the code above and add your spreadsheet ID to upload results!\")"
      ]
    },
    {
      "cell_type": "markdown",
      "metadata": {
        "id": "google-drive-header"
      },
      "source": [
        "## 💾 Section 9: Google Drive Integration (Optional)\n",
        "\n",
        "Mount Google Drive to access images stored in your Drive."
      ]
    },
    {
      "cell_type": "code",
      "execution_count": 11,
      "metadata": {
        "id": "mount-drive",
        "outputId": "e987f5aa-7094-4f16-804e-767bf2e17a0e",
        "colab": {
          "base_uri": "https://localhost:8080/"
        }
      },
      "outputs": [
        {
          "output_type": "stream",
          "name": "stdout",
          "text": [
            "📁 Mounting Google Drive...\n",
            "\n",
            "Mounted at /content/drive\n",
            "\n",
            "✅ Google Drive mounted at /content/drive/\n",
            "\n",
            "You can now access files from your Google Drive!\n",
            "\n",
            "Example: Process images from Drive folder:\n",
            "   drive_folder = '/content/drive/MyDrive/RenovationImages'\n",
            "   images = glob.glob(f'{drive_folder}/*.jpg')\n"
          ]
        }
      ],
      "source": [
        "from google.colab import drive\n",
        "\n",
        "print(\"📁 Mounting Google Drive...\\n\")\n",
        "drive.mount('/content/drive')\n",
        "\n",
        "print(\"\\n✅ Google Drive mounted at /content/drive/\")\n",
        "print(\"\\nYou can now access files from your Google Drive!\")\n",
        "print(\"\\nExample: Process images from Drive folder:\")\n",
        "print(\"   drive_folder = '/content/drive/MyDrive/RenovationImages'\")\n",
        "print(\"   images = glob.glob(f'{drive_folder}/*.jpg')\")"
      ]
    },
    {
      "cell_type": "markdown",
      "metadata": {
        "id": "export-header"
      },
      "source": [
        "## 💾 Section 10: Export Results\n",
        "\n",
        "Save extracted data locally as Excel or CSV files."
      ]
    },
    {
      "cell_type": "code",
      "execution_count": null,
      "metadata": {
        "id": "export-results"
      },
      "outputs": [],
      "source": [
        "import openpyxl\n",
        "\n",
        "# Export results to Excel\n",
        "if results:\n",
        "    output_file = 'renovation_tracker_results.xlsx'\n",
        "\n",
        "    with pd.ExcelWriter(output_file, engine='openpyxl') as writer:\n",
        "        # Save OCR results summary\n",
        "        df_results.to_excel(writer, sheet_name='OCR Summary', index=False)\n",
        "\n",
        "        # Save extracted text for each image\n",
        "        for idx, result in enumerate(results):\n",
        "            sheet_name = f\"Text_{idx+1}\"\n",
        "            df_text = pd.DataFrame({'Text': [result['text']]})\n",
        "            df_text.to_excel(writer, sheet_name=sheet_name, index=False)\n",
        "\n",
        "    print(f\"✅ Results exported to: {output_file}\")\n",
        "    print(f\"   - OCR Summary sheet\")\n",
        "    print(f\"   - {len(results)} text extraction sheets\\n\")\n",
        "\n",
        "    # Download the file\n",
        "    files.download(output_file)\n",
        "    print(\"📥 Download started!\")\n",
        "else:\n",
        "    print(\"⚠️ No results to export. Process images first!\")"
      ]
    },
    {
      "cell_type": "markdown",
      "metadata": {
        "id": "full-pipeline-header"
      },
      "source": [
        "## 🔄 Section 11: Full Automated Pipeline\n",
        "\n",
        "Run the complete pipeline: upload → OCR → parse → export → upload to Sheets"
      ]
    },
    {
      "cell_type": "code",
      "execution_count": null,
      "metadata": {
        "id": "full-pipeline"
      },
      "outputs": [],
      "source": [
        "def run_full_pipeline(image_paths, spreadsheet_id=None):\n",
        "    \"\"\"\n",
        "    Complete OCR pipeline:\n",
        "    1. Process images with OCR\n",
        "    2. Run all parsers\n",
        "    3. Generate summary report\n",
        "    4. Export to Excel\n",
        "    5. Upload to Google Sheets (optional)\n",
        "    \"\"\"\n",
        "    print(\"🚀 FULL PIPELINE STARTED\")\n",
        "    print(\"=\"*70)\n",
        "\n",
        "    all_results = {\n",
        "        'ocr_summary': [],\n",
        "        'transactions': [],\n",
        "        'tasks': [],\n",
        "        'layouts': [],\n",
        "        'moving_tasks': []\n",
        "    }\n",
        "\n",
        "    # Step 1: OCR Processing\n",
        "    print(\"\\n📸 Step 1: Processing images with OCR...\")\n",
        "    for image_path in image_paths:\n",
        "        filename = os.path.basename(image_path)\n",
        "        print(f\"   - {filename}\")\n",
        "\n",
        "        text, confidence, _ = process_image_with_confidence(image_path)\n",
        "\n",
        "        all_results['ocr_summary'].append({\n",
        "            'filename': filename,\n",
        "            'confidence': confidence,\n",
        "            'word_count': len(text.split()),\n",
        "            'text_preview': text[:100]\n",
        "        })\n",
        "\n",
        "        # Step 2: Run parsers\n",
        "        print(f\"   🔍 Running intelligent parsers...\")\n",
        "\n",
        "        # Transaction parser\n",
        "        transactions = transaction_parser.parse(text)\n",
        "        if transactions:\n",
        "            for t in transactions:\n",
        "                t['source_file'] = filename\n",
        "            all_results['transactions'].extend(transactions)\n",
        "            print(f\"      💰 {len(transactions)} transaction(s)\")\n",
        "\n",
        "        # Task parser\n",
        "        tasks = task_parser.parse(text)\n",
        "        if tasks:\n",
        "            for t in tasks:\n",
        "                t['source_file'] = filename\n",
        "            all_results['tasks'].extend(tasks)\n",
        "            print(f\"      ✅ {len(tasks)} task(s)\")\n",
        "\n",
        "        # Layout parser\n",
        "        layouts = layout_parser.parse(text)\n",
        "        if layouts:\n",
        "            for l in layouts:\n",
        "                l['source_file'] = filename\n",
        "            all_results['layouts'].extend(layouts)\n",
        "            print(f\"      📐 {len(layouts)} layout(s)\")\n",
        "\n",
        "        # Moving parser\n",
        "        moving = moving_parser.parse(text)\n",
        "        if moving:\n",
        "            for m in moving:\n",
        "                m['source_file'] = filename\n",
        "            all_results['moving_tasks'].extend(moving)\n",
        "            print(f\"      📦 {len(moving)} moving task(s)\")\n",
        "\n",
        "    # Step 3: Generate summary\n",
        "    print(\"\\n📊 Step 2: Generating summary report...\")\n",
        "    print(f\"   - Images processed: {len(image_paths)}\")\n",
        "    print(f\"   - Transactions found: {len(all_results['transactions'])}\")\n",
        "    print(f\"   - Tasks found: {len(all_results['tasks'])}\")\n",
        "    print(f\"   - Layouts found: {len(all_results['layouts'])}\")\n",
        "    print(f\"   - Moving tasks found: {len(all_results['moving_tasks'])}\")\n",
        "\n",
        "    # Step 4: Export to Excel\n",
        "    print(\"\\n💾 Step 3: Exporting to Excel...\")\n",
        "    output_file = f'renovation_tracker_full_pipeline_{datetime.now().strftime(\"%Y%m%d_%H%M%S\")}.xlsx'\n",
        "\n",
        "    with pd.ExcelWriter(output_file, engine='openpyxl') as writer:\n",
        "        pd.DataFrame(all_results['ocr_summary']).to_excel(writer, sheet_name='OCR Summary', index=False)\n",
        "\n",
        "        if all_results['transactions']:\n",
        "            pd.DataFrame(all_results['transactions']).to_excel(writer, sheet_name='Transactions', index=False)\n",
        "\n",
        "        if all_results['tasks']:\n",
        "            pd.DataFrame(all_results['tasks']).to_excel(writer, sheet_name='Tasks', index=False)\n",
        "\n",
        "        if all_results['layouts']:\n",
        "            pd.DataFrame(all_results['layouts']).to_excel(writer, sheet_name='Layouts', index=False)\n",
        "\n",
        "        if all_results['moving_tasks']:\n",
        "            pd.DataFrame(all_results['moving_tasks']).to_excel(writer, sheet_name='Moving Tasks', index=False)\n",
        "\n",
        "    print(f\"   ✅ Saved: {output_file}\")\n",
        "\n",
        "    # Step 5: Upload to Google Sheets (if spreadsheet_id provided)\n",
        "    if spreadsheet_id:\n",
        "        print(\"\\n📤 Step 4: Uploading to Google Sheets...\")\n",
        "\n",
        "        if all_results['transactions']:\n",
        "            upload_to_google_sheets(spreadsheet_id, 'Transactions', pd.DataFrame(all_results['transactions']))\n",
        "\n",
        "        if all_results['tasks']:\n",
        "            upload_to_google_sheets(spreadsheet_id, 'Tasks', pd.DataFrame(all_results['tasks']))\n",
        "\n",
        "        if all_results['layouts']:\n",
        "            upload_to_google_sheets(spreadsheet_id, 'Layouts', pd.DataFrame(all_results['layouts']))\n",
        "\n",
        "        if all_results['moving_tasks']:\n",
        "            upload_to_google_sheets(spreadsheet_id, 'Moving Tasks', pd.DataFrame(all_results['moving_tasks']))\n",
        "\n",
        "    print(\"\\n✅ PIPELINE COMPLETE!\")\n",
        "    print(\"=\"*70)\n",
        "\n",
        "    # Download results\n",
        "    files.download(output_file)\n",
        "\n",
        "    return all_results\n",
        "\n",
        "# Run the full pipeline on uploaded images\n",
        "if uploaded_files:\n",
        "    # Uncomment to run with Google Sheets upload:\n",
        "    # SPREADSHEET_ID = \"your_spreadsheet_id_here\"\n",
        "    # pipeline_results = run_full_pipeline(uploaded_files, spreadsheet_id=SPREADSHEET_ID)\n",
        "\n",
        "    # Run without Google Sheets upload:\n",
        "    pipeline_results = run_full_pipeline(uploaded_files)\n",
        "else:\n",
        "    print(\"⚠️ No images uploaded. Please upload images in Section 4 first!\")"
      ]
    },
    {
      "cell_type": "markdown",
      "metadata": {
        "id": "tips-header"
      },
      "source": [
        "## 💡 Tips & Best Practices\n",
        "\n",
        "### For Best OCR Results:\n",
        "- ✅ Use high-resolution images (300 DPI or higher)\n",
        "- ✅ Ensure good lighting and contrast\n",
        "- ✅ Keep text horizontal (rotate images if needed)\n",
        "- ✅ Avoid blurry or skewed images\n",
        "\n",
        "### Parser Selection:\n",
        "- **Transaction Parser**: Receipts, invoices, expense notes\n",
        "- **Task Parser**: Checklists, to-do lists, project tasks\n",
        "- **Layout Parser**: Room dimensions, property layouts\n",
        "- **Moving Parser**: Moving guides, packing checklists\n",
        "\n",
        "### Google Sheets Setup:\n",
        "1. Create a new Google Sheet or use existing one\n",
        "2. Copy the spreadsheet ID from the URL\n",
        "3. Run the authentication cell in Section 8\n",
        "4. Use the upload functions to push data\n",
        "\n",
        "---\n",
        "\n",
        "## 🐛 Troubleshooting\n",
        "\n",
        "**Low Confidence Scores (<70%)**\n",
        "- Improve image quality\n",
        "- Try preprocessing (rotate, enhance contrast)\n",
        "- Check if handwriting is legible\n",
        "\n",
        "**No Data Parsed**\n",
        "- Verify the text contains relevant keywords\n",
        "- Check parser is appropriate for document type\n",
        "- Review extracted text for accuracy\n",
        "\n",
        "**Google Sheets Upload Fails**\n",
        "- Verify authentication completed successfully\n",
        "- Check spreadsheet ID is correct\n",
        "- Ensure you have edit access to the sheet\n",
        "\n",
        "---\n",
        "\n",
        "## 📚 Resources\n",
        "\n",
        "- **GitHub Repository**: https://github.com/traikdude/renovation-tracker\n",
        "- **Tesseract Documentation**: https://github.com/tesseract-ocr/tesseract\n",
        "- **gspread Documentation**: https://docs.gspread.org/\n",
        "\n",
        "---\n",
        "\n",
        "**Built with Python • Tesseract OCR • Google Colab**\n"
      ]
    }
  ],
  "metadata": {
    "accelerator": "GPU",
    "colab": {
      "name": "Renovation Tracker OCR Pipeline",
      "provenance": [],
      "include_colab_link": true
    },
    "kernelspec": {
      "display_name": "Python 3",
      "language": "python",
      "name": "python3"
    },
    "language_info": {
      "codemirror_mode": {
        "name": "ipython",
        "version": 3
      },
      "file_extension": ".py",
      "mimetype": "text/x-python",
      "name": "python",
      "nbconvert_exporter": "python",
      "pygments_lexer": "ipython3",
      "version": "3.8.10"
    }
  },
  "nbformat": 4,
  "nbformat_minor": 0
}